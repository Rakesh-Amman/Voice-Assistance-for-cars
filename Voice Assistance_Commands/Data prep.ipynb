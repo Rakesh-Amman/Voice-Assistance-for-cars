{
 "cells": [
  {
   "cell_type": "code",
   "execution_count": 146,
   "metadata": {},
   "outputs": [],
   "source": [
    "soft_tokens=['', 'please','Help me', 'help me to', 'Hello', 'can you please', 'can you please help me to']\n",
    "commands=['open door \\n','close door \\n', 'open maps \\n', 'close maps \\n', 'open the door \\n', 'close the door \\n', 'open the maps \\n', 'close the maps \\n']\n",
    "odoor=[]\n",
    "cdoor=[]\n",
    "omaps=[]\n",
    "cmaps=[]\n",
    "comm=[odoor,cdoor,omaps,cmaps]\n",
    "\n",
    "for m in range(100):\n",
    "    for i in soft_tokens:\n",
    "        k=0\n",
    "        for j in commands:\n",
    "            #print(k)\n",
    "            if(k<4):\n",
    "                (comm[k]).append(i+' '+ j)\n",
    "\n",
    "            if(k==4):\n",
    "                (comm[0]).append(i+' '+ j)\n",
    "\n",
    "            if(k==5):\n",
    "                (comm[1]).append(i+' '+ j)\n",
    "\n",
    "            if(k==6):\n",
    "                (comm[2]).append(i+' '+ j)\n",
    "\n",
    "            if(k==7):\n",
    "                (comm[3]).append(i+' '+ j)\n",
    "\n",
    "            k+=1\n",
    "#comm"
   ]
  },
  {
   "cell_type": "code",
   "execution_count": 147,
   "metadata": {},
   "outputs": [],
   "source": [
    "directory=r'C:\\Users\\rakesh.amman\\Desktop\\Projects\\Voice Assistance'\n",
    "comm2=['odoor.txt','cdoor.txt','omaps.txt','cmaps.txt']\n",
    "j=0\n",
    "for i in comm2:\n",
    "    path = directory + '/' + str(i)\n",
    "    file=open(path,'w')\n",
    "    file.writelines(comm[j])\n",
    "    file.close()\n",
    "    j+1\n",
    "         "
   ]
  },
  {
   "cell_type": "code",
   "execution_count": 148,
   "metadata": {},
   "outputs": [],
   "source": [
    "#from os import listdir"
   ]
  },
  {
   "cell_type": "code",
   "execution_count": 149,
   "metadata": {},
   "outputs": [],
   "source": [
    "#print(listdir(directory))"
   ]
  },
  {
   "cell_type": "code",
   "execution_count": 150,
   "metadata": {},
   "outputs": [],
   "source": [
    "import csv"
   ]
  },
  {
   "cell_type": "code",
   "execution_count": 151,
   "metadata": {},
   "outputs": [],
   "source": [
    "for i in range(4):\n",
    "    csv_f=open(r'C:\\Users\\rakesh.amman\\Desktop\\Projects\\Voice Assistance\\100.csv','a')\n",
    "    csv_f.writelines(comm[i])\n",
    "    csv_f.close()"
   ]
  },
  {
   "cell_type": "code",
   "execution_count": 152,
   "metadata": {},
   "outputs": [
    {
     "name": "stdout",
     "output_type": "stream",
     "text": [
      "1400\n"
     ]
    }
   ],
   "source": [
    "tod=[]\n",
    "tcd=[]\n",
    "tom=[]\n",
    "tcm=[]\n",
    "target=[tod,tcd,tom,tcm]\n",
    "\n",
    "length=len(odoor)\n",
    "print(length)\n",
    "j=1\n",
    "m=0\n",
    "while(m<4):\n",
    "    for i in range(length):\n",
    "        a=str(j)+'\\n'\n",
    "        target[m].append(a)\n",
    "    j+=1\n",
    "    m+=1\n",
    "    \n"
   ]
  },
  {
   "cell_type": "code",
   "execution_count": 153,
   "metadata": {},
   "outputs": [],
   "source": [
    "for i in range(4):\n",
    "    csv_f=open(r'C:\\Users\\rakesh.amman\\Desktop\\Projects\\Voice Assistance\\101.csv','a')\n",
    "    csv_f.writelines(target[i])\n",
    "    csv_f.close()"
   ]
  },
  {
   "cell_type": "code",
   "execution_count": null,
   "metadata": {},
   "outputs": [],
   "source": []
  }
 ],
 "metadata": {
  "kernelspec": {
   "display_name": "Python 3",
   "language": "python",
   "name": "python3"
  },
  "language_info": {
   "codemirror_mode": {
    "name": "ipython",
    "version": 3
   },
   "file_extension": ".py",
   "mimetype": "text/x-python",
   "name": "python",
   "nbconvert_exporter": "python",
   "pygments_lexer": "ipython3",
   "version": "3.7.3"
  }
 },
 "nbformat": 4,
 "nbformat_minor": 2
}
