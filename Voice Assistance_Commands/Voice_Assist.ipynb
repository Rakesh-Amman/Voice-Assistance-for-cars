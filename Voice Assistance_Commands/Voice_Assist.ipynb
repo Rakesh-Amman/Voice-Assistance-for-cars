{
 "cells": [
  {
   "cell_type": "code",
   "execution_count": 1,
   "metadata": {},
   "outputs": [],
   "source": [
    "import pandas as pd\n",
    "from nltk.corpus import stopwords\n",
    "import string\n",
    "import numpy as np\n",
    "from nltk.stem.porter import PorterStemmer"
   ]
  },
  {
   "cell_type": "code",
   "execution_count": 2,
   "metadata": {},
   "outputs": [],
   "source": [
    "df1=pd.read_csv(r'C:\\Users\\rakesh.amman\\Desktop\\Projects\\Voice Assistance_Commands\\100.csv')\n",
    "df2=pd.read_csv(r'C:\\Users\\rakesh.amman\\Desktop\\Projects\\Voice Assistance_Commands\\101.csv')"
   ]
  },
  {
   "cell_type": "code",
   "execution_count": 3,
   "metadata": {},
   "outputs": [
    {
     "data": {
      "text/html": [
       "<div>\n",
       "<style scoped>\n",
       "    .dataframe tbody tr th:only-of-type {\n",
       "        vertical-align: middle;\n",
       "    }\n",
       "\n",
       "    .dataframe tbody tr th {\n",
       "        vertical-align: top;\n",
       "    }\n",
       "\n",
       "    .dataframe thead th {\n",
       "        text-align: right;\n",
       "    }\n",
       "</style>\n",
       "<table border=\"1\" class=\"dataframe\">\n",
       "  <thead>\n",
       "    <tr style=\"text-align: right;\">\n",
       "      <th></th>\n",
       "      <th>commands</th>\n",
       "    </tr>\n",
       "  </thead>\n",
       "  <tbody>\n",
       "    <tr>\n",
       "      <th>0</th>\n",
       "      <td>open door</td>\n",
       "    </tr>\n",
       "    <tr>\n",
       "      <th>1</th>\n",
       "      <td>open the door</td>\n",
       "    </tr>\n",
       "    <tr>\n",
       "      <th>2</th>\n",
       "      <td>please open door</td>\n",
       "    </tr>\n",
       "    <tr>\n",
       "      <th>3</th>\n",
       "      <td>please open the door</td>\n",
       "    </tr>\n",
       "    <tr>\n",
       "      <th>4</th>\n",
       "      <td>Help me open door</td>\n",
       "    </tr>\n",
       "  </tbody>\n",
       "</table>\n",
       "</div>"
      ],
      "text/plain": [
       "                commands\n",
       "0             open door \n",
       "1         open the door \n",
       "2      please open door \n",
       "3  please open the door \n",
       "4     Help me open door "
      ]
     },
     "execution_count": 3,
     "metadata": {},
     "output_type": "execute_result"
    }
   ],
   "source": [
    "df1.head()"
   ]
  },
  {
   "cell_type": "code",
   "execution_count": 4,
   "metadata": {},
   "outputs": [
    {
     "data": {
      "text/html": [
       "<div>\n",
       "<style scoped>\n",
       "    .dataframe tbody tr th:only-of-type {\n",
       "        vertical-align: middle;\n",
       "    }\n",
       "\n",
       "    .dataframe tbody tr th {\n",
       "        vertical-align: top;\n",
       "    }\n",
       "\n",
       "    .dataframe thead th {\n",
       "        text-align: right;\n",
       "    }\n",
       "</style>\n",
       "<table border=\"1\" class=\"dataframe\">\n",
       "  <thead>\n",
       "    <tr style=\"text-align: right;\">\n",
       "      <th></th>\n",
       "      <th>target</th>\n",
       "    </tr>\n",
       "  </thead>\n",
       "  <tbody>\n",
       "    <tr>\n",
       "      <th>0</th>\n",
       "      <td>1</td>\n",
       "    </tr>\n",
       "    <tr>\n",
       "      <th>1</th>\n",
       "      <td>1</td>\n",
       "    </tr>\n",
       "    <tr>\n",
       "      <th>2</th>\n",
       "      <td>1</td>\n",
       "    </tr>\n",
       "    <tr>\n",
       "      <th>3</th>\n",
       "      <td>1</td>\n",
       "    </tr>\n",
       "    <tr>\n",
       "      <th>4</th>\n",
       "      <td>1</td>\n",
       "    </tr>\n",
       "  </tbody>\n",
       "</table>\n",
       "</div>"
      ],
      "text/plain": [
       "   target\n",
       "0       1\n",
       "1       1\n",
       "2       1\n",
       "3       1\n",
       "4       1"
      ]
     },
     "execution_count": 4,
     "metadata": {},
     "output_type": "execute_result"
    }
   ],
   "source": [
    "df2.head()"
   ]
  },
  {
   "cell_type": "code",
   "execution_count": 5,
   "metadata": {},
   "outputs": [
    {
     "data": {
      "text/html": [
       "<div>\n",
       "<style scoped>\n",
       "    .dataframe tbody tr th:only-of-type {\n",
       "        vertical-align: middle;\n",
       "    }\n",
       "\n",
       "    .dataframe tbody tr th {\n",
       "        vertical-align: top;\n",
       "    }\n",
       "\n",
       "    .dataframe thead th {\n",
       "        text-align: right;\n",
       "    }\n",
       "</style>\n",
       "<table border=\"1\" class=\"dataframe\">\n",
       "  <thead>\n",
       "    <tr style=\"text-align: right;\">\n",
       "      <th></th>\n",
       "      <th>commands</th>\n",
       "      <th>target</th>\n",
       "    </tr>\n",
       "  </thead>\n",
       "  <tbody>\n",
       "    <tr>\n",
       "      <th>0</th>\n",
       "      <td>open door</td>\n",
       "      <td>1</td>\n",
       "    </tr>\n",
       "    <tr>\n",
       "      <th>1</th>\n",
       "      <td>open the door</td>\n",
       "      <td>1</td>\n",
       "    </tr>\n",
       "    <tr>\n",
       "      <th>2</th>\n",
       "      <td>please open door</td>\n",
       "      <td>1</td>\n",
       "    </tr>\n",
       "    <tr>\n",
       "      <th>3</th>\n",
       "      <td>please open the door</td>\n",
       "      <td>1</td>\n",
       "    </tr>\n",
       "    <tr>\n",
       "      <th>4</th>\n",
       "      <td>Help me open door</td>\n",
       "      <td>1</td>\n",
       "    </tr>\n",
       "  </tbody>\n",
       "</table>\n",
       "</div>"
      ],
      "text/plain": [
       "                commands  target\n",
       "0             open door        1\n",
       "1         open the door        1\n",
       "2      please open door        1\n",
       "3  please open the door        1\n",
       "4     Help me open door        1"
      ]
     },
     "execution_count": 5,
     "metadata": {},
     "output_type": "execute_result"
    }
   ],
   "source": [
    "df=df1.join(df2)\n",
    "df.head()"
   ]
  },
  {
   "cell_type": "code",
   "execution_count": 6,
   "metadata": {},
   "outputs": [],
   "source": [
    "def clean_text(text):\n",
    "    \"Pre-process the document. Pass document as a string argument\"\n",
    "    # split into tokens by white space\n",
    "    tokens = text.split()\n",
    "    # remove punctuation from each token\n",
    "    table = str.maketrans('', '', string.punctuation)\n",
    "    tokens = [w.translate(table) for w in tokens]\n",
    "    # remove remaining tokens that are not alphabetic\n",
    "    tokens = [word for word in tokens if word.isalpha()]\n",
    "    # filter out stop words\n",
    "    stop_words = set(stopwords.words('english'))\n",
    "    tokens = [w for w in tokens if not w in stop_words]\n",
    "    ps = PorterStemmer()\n",
    "    tokens = [ps.stem(word) for word in tokens]\n",
    "    #print(tokens)\n",
    "    commands=\" \".join(tokens)\n",
    "    return commands"
   ]
  },
  {
   "cell_type": "code",
   "execution_count": 7,
   "metadata": {},
   "outputs": [
    {
     "data": {
      "text/html": [
       "<div>\n",
       "<style scoped>\n",
       "    .dataframe tbody tr th:only-of-type {\n",
       "        vertical-align: middle;\n",
       "    }\n",
       "\n",
       "    .dataframe tbody tr th {\n",
       "        vertical-align: top;\n",
       "    }\n",
       "\n",
       "    .dataframe thead th {\n",
       "        text-align: right;\n",
       "    }\n",
       "</style>\n",
       "<table border=\"1\" class=\"dataframe\">\n",
       "  <thead>\n",
       "    <tr style=\"text-align: right;\">\n",
       "      <th></th>\n",
       "      <th>commands</th>\n",
       "      <th>target</th>\n",
       "    </tr>\n",
       "  </thead>\n",
       "  <tbody>\n",
       "    <tr>\n",
       "      <th>0</th>\n",
       "      <td>open door</td>\n",
       "      <td>1</td>\n",
       "    </tr>\n",
       "    <tr>\n",
       "      <th>1</th>\n",
       "      <td>open the door</td>\n",
       "      <td>1</td>\n",
       "    </tr>\n",
       "    <tr>\n",
       "      <th>2</th>\n",
       "      <td>please open door</td>\n",
       "      <td>1</td>\n",
       "    </tr>\n",
       "    <tr>\n",
       "      <th>3</th>\n",
       "      <td>please open the door</td>\n",
       "      <td>1</td>\n",
       "    </tr>\n",
       "    <tr>\n",
       "      <th>4</th>\n",
       "      <td>Help me open door</td>\n",
       "      <td>1</td>\n",
       "    </tr>\n",
       "  </tbody>\n",
       "</table>\n",
       "</div>"
      ],
      "text/plain": [
       "                commands  target\n",
       "0             open door        1\n",
       "1         open the door        1\n",
       "2      please open door        1\n",
       "3  please open the door        1\n",
       "4     Help me open door        1"
      ]
     },
     "execution_count": 7,
     "metadata": {},
     "output_type": "execute_result"
    }
   ],
   "source": [
    "df.head()"
   ]
  },
  {
   "cell_type": "code",
   "execution_count": 8,
   "metadata": {},
   "outputs": [
    {
     "name": "stderr",
     "output_type": "stream",
     "text": [
      "Using TensorFlow backend.\n"
     ]
    }
   ],
   "source": [
    "from keras.preprocessing.text import Tokenizer\n",
    "from sklearn.model_selection import train_test_split\n",
    "import numpy as np\n",
    "from sklearn.metrics import confusion_matrix"
   ]
  },
  {
   "cell_type": "code",
   "execution_count": 9,
   "metadata": {},
   "outputs": [],
   "source": [
    "# create the tokenizer\n",
    "tokenizer = Tokenizer()\n",
    "# fit the tokenizer on the texts\n",
    "vec_text = df['commands']\n",
    "tokenizer.fit_on_texts(vec_text)"
   ]
  },
  {
   "cell_type": "code",
   "execution_count": 10,
   "metadata": {},
   "outputs": [
    {
     "name": "stdout",
     "output_type": "stream",
     "text": [
      "(5600, 13)\n",
      "[[0. 1. 1. 0. 0. 0. 0. 0. 0. 0. 0. 0. 0.]\n",
      " [0. 1. 1. 1. 0. 0. 0. 0. 0. 0. 0. 0. 0.]\n",
      " [0. 1. 1. 0. 0. 0. 1. 0. 0. 0. 0. 0. 0.]\n",
      " [0. 1. 1. 1. 0. 0. 1. 0. 0. 0. 0. 0. 0.]\n",
      " [0. 1. 1. 0. 0. 0. 0. 1. 1. 0. 0. 0. 0.]]\n"
     ]
    }
   ],
   "source": [
    "# encode training data set\n",
    "X= tokenizer.texts_to_matrix(vec_text, mode='binary')\n",
    "print(X.shape)\n",
    "print(X[:5])"
   ]
  },
  {
   "cell_type": "code",
   "execution_count": 11,
   "metadata": {},
   "outputs": [
    {
     "data": {
      "text/plain": [
       "array([1, 1, 1, 1, 1, 1, 1, 1, 1, 1], dtype=int64)"
      ]
     },
     "execution_count": 11,
     "metadata": {},
     "output_type": "execute_result"
    }
   ],
   "source": [
    "Y=np.array(df['target'])\n",
    "Y[:10]"
   ]
  },
  {
   "cell_type": "code",
   "execution_count": 12,
   "metadata": {},
   "outputs": [],
   "source": [
    "X_train, X_test, Y_train, Y_test = train_test_split(X,Y ,test_size=0.25, random_state=42)"
   ]
  },
  {
   "cell_type": "code",
   "execution_count": 13,
   "metadata": {},
   "outputs": [
    {
     "data": {
      "text/plain": [
       "array([[376,   0,   0,   0],\n",
       "       [  0, 358,   0,   0],\n",
       "       [  0,   0, 325,   0],\n",
       "       [  0,   0,   0, 341]], dtype=int64)"
      ]
     },
     "execution_count": 13,
     "metadata": {},
     "output_type": "execute_result"
    }
   ],
   "source": [
    "from sklearn.naive_bayes import MultinomialNB\n",
    "naive_bayes_classifier = MultinomialNB()\n",
    "naive_bayes_classifier.fit(X_train, Y_train)\n",
    "\n",
    "# Predicting the Test set results\n",
    "y_pred = naive_bayes_classifier.predict(X_test)\n",
    "\n",
    "# Making the Confusion Matrix\n",
    "cm = confusion_matrix(Y_test, y_pred)\n",
    "cm"
   ]
  },
  {
   "cell_type": "code",
   "execution_count": 14,
   "metadata": {},
   "outputs": [
    {
     "name": "stdout",
     "output_type": "stream",
     "text": [
      "Test Accuracy: 1.00\n",
      "Train Accuracy: 1.00\n"
     ]
    }
   ],
   "source": [
    "print('Test Accuracy: %.2f' % (np.sum(cm.diagonal())/np.sum(cm)))\n",
    "cm_train = confusion_matrix(Y_train, naive_bayes_classifier.predict(X_train))\n",
    "print('Train Accuracy: %.2f' % (np.sum(cm.diagonal())/np.sum(cm)))"
   ]
  },
  {
   "cell_type": "markdown",
   "metadata": {},
   "source": [
    "## Prediction"
   ]
  },
  {
   "cell_type": "code",
   "execution_count": 15,
   "metadata": {},
   "outputs": [
    {
     "name": "stdout",
     "output_type": "stream",
     "text": [
      "pygame 1.9.6\n",
      "Hello from the pygame community. https://www.pygame.org/contribute.html\n"
     ]
    }
   ],
   "source": [
    "import re #Regular expressionas\n",
    "from nltk.corpus import stopwords\n",
    "from nltk.stem.porter import PorterStemmer\n",
    "import speech_recognition as sr\n",
    "from gtts import gTTS #Google text to speech\n",
    "from pygame import mixer\n",
    "mixer.init()"
   ]
  },
  {
   "cell_type": "code",
   "execution_count": 16,
   "metadata": {},
   "outputs": [],
   "source": [
    "do=\"Door opened\"\n",
    "dc=\"Door closed\"\n",
    "mo=\"Maps opened\"\n",
    "mc=\"Maps closed\"\n",
    "tts = gTTS(text=str(do), lang='en')\n",
    "tts.save(r\"C:\\Users\\rakesh.amman\\Desktop\\Projects\\Voice Assistance_Commands\\do.mp3\")\n",
    "tts = gTTS(text=str(dc), lang='en')\n",
    "tts.save(r\"C:\\Users\\rakesh.amman\\Desktop\\Projects\\Voice Assistance_Commands\\dc.mp3\")\n",
    "tts = gTTS(text=str(mo), lang='en')\n",
    "tts.save(r\"C:\\Users\\rakesh.amman\\Desktop\\Projects\\Voice Assistance_Commands\\mo.mp3\")\n",
    "tts = gTTS(text=str(mc), lang='en')\n",
    "tts.save(r\"C:\\Users\\rakesh.amman\\Desktop\\Projects\\Voice Assistance_Commands\\mc.mp3\")"
   ]
  },
  {
   "cell_type": "code",
   "execution_count": 24,
   "metadata": {},
   "outputs": [],
   "source": [
    "def stotex():\n",
    "    r = sr.Recognizer() #Recognizer instance\n",
    "    with sr.Microphone() as source:\n",
    "        r.adjust_for_ambient_noise(source,duration=2) #handle noise\n",
    "        print(\"Your command please!\")\n",
    "        audio = r.listen(source) #listen to audio via microphone\n",
    " \n",
    "\n",
    "    try:\n",
    "        response = r.recognize_google(audio) #recognizing the audio in english (default language)\n",
    "        print(\"I think you said '\" + response + \"'\")\n",
    "        tts = gTTS(text=str(response)+ '  ' +'    done', lang='en')\n",
    "        tts.save(r\"C:\\Users\\rakesh.amman\\Desktop\\Projects\\Voice Assistance_Commands\\response1.mp3\")\n",
    " \n",
    "    except sr.UnknownValueError:\n",
    "        print(\"Sorry could not understand audio\")\n",
    "    return response"
   ]
  },
  {
   "cell_type": "code",
   "execution_count": 25,
   "metadata": {},
   "outputs": [],
   "source": [
    "def predict_sentiment(review):\n",
    "    # clean\n",
    "    tokens = clean_text(review)\n",
    "    encoded = tokenizer.texts_to_matrix([tokens], mode='binary')\n",
    "    print(encoded)\n",
    "    # prediction\n",
    "    prediction = naive_bayes_classifier.predict(encoded)\n",
    "    return prediction"
   ]
  },
  {
   "cell_type": "code",
   "execution_count": 27,
   "metadata": {},
   "outputs": [
    {
     "name": "stdout",
     "output_type": "stream",
     "text": [
      ".....\n",
      "hi\n",
      "Welcome to automated voice assistance!\n",
      "Your command please!\n",
      "I think you said 'please close door and open maps'\n",
      "[[0. 1. 1. 0. 1. 0. 0. 0. 0. 0. 0. 0. 0.]]\n",
      "Door closed\n"
     ]
    }
   ],
   "source": [
    "# Turning on the Voice assistance\n",
    "r = sr.Recognizer()\n",
    "with sr.Microphone() as source:\n",
    "    r.adjust_for_ambient_noise(source)\n",
    "    print(\".....\")\n",
    "    audio = r.listen(source)\n",
    "try:\n",
    "    response = r.recognize_google(audio)\n",
    "    print(response)\n",
    "    \n",
    "    if(response=='hi'): #Entering speech assistance\n",
    "        print(\"Welcome to automated voice assistance!\")\n",
    "        mixer.music.load(r'C:\\Users\\rakesh.amman\\Desktop\\Projects\\Voice Assistance_Commands\\welcome.mp3')\n",
    "        mixer.music.play()\n",
    "        user_response= stotex() #input\n",
    "        user_response=clean_text(user_response) #Preprocessing\n",
    "        user_response=predict_sentiment(user_response) #Predection\n",
    "        \n",
    "        if(user_response==1):\n",
    "            mixer.music.load(r'C:\\Users\\rakesh.amman\\Desktop\\Projects\\Voice Assistance_Commands\\do.mp3')\n",
    "            mixer.music.play()\n",
    "            print(do)\n",
    "        if(user_response==2):\n",
    "            mixer.music.load(r'C:\\Users\\rakesh.amman\\Desktop\\Projects\\Voice Assistance_Commands\\dc.mp3')\n",
    "            mixer.music.play()\n",
    "            print(dc)\n",
    "        if(user_response==3):\n",
    "            mixer.music.load(r'C:\\Users\\rakesh.amman\\Desktop\\Projects\\Voice Assistance_Commands\\mo.mp3')\n",
    "            mixer.music.play()\n",
    "            print(mo)\n",
    "        if(user_response==4):\n",
    "            mixer.music.load(r'C:\\Users\\rakesh.amman\\Desktop\\Projects\\Voice Assistance_Commands\\mc.mp3')\n",
    "            mixer.music.play()\n",
    "            print(mc)\n",
    "            \n",
    "        \n",
    "except sr.UnknownValueError:\n",
    "        print()\n",
    "        \n",
    "\n",
    "\n",
    "\n"
   ]
  },
  {
   "cell_type": "code",
   "execution_count": null,
   "metadata": {},
   "outputs": [],
   "source": []
  },
  {
   "cell_type": "code",
   "execution_count": null,
   "metadata": {},
   "outputs": [],
   "source": []
  }
 ],
 "metadata": {
  "kernelspec": {
   "display_name": "Python 3",
   "language": "python",
   "name": "python3"
  },
  "language_info": {
   "codemirror_mode": {
    "name": "ipython",
    "version": 3
   },
   "file_extension": ".py",
   "mimetype": "text/x-python",
   "name": "python",
   "nbconvert_exporter": "python",
   "pygments_lexer": "ipython3",
   "version": "3.7.3"
  }
 },
 "nbformat": 4,
 "nbformat_minor": 2
}
